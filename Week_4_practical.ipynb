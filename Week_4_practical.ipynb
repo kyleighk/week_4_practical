{
  "nbformat": 4,
  "nbformat_minor": 5,
  "metadata": {
    "kernelspec": {
      "display_name": "R",
      "language": "R",
      "name": "ir"
    },
    "language_info": {
      "codemirror_mode": "r",
      "file_extension": ".r",
      "mimetype": "text/x-r-source",
      "name": "R",
      "pygments_lexer": "r",
      "version": "4.0.2"
    },
    "colab": {
      "name": "Week_4_practical.ipynb",
      "provenance": []
    }
  },
  "cells": [
    {
      "cell_type": "markdown",
      "metadata": {
        "id": "355542d2"
      },
      "source": [
        "### Instructions:\n",
        "\n",
        "1. Import all the libraries you need in the cell below\n",
        "2. Create as many cells as needed to answer a question\n",
        "  * Group code that is logically related in the same cell\n",
        "  * Keep cells relatively small\n",
        "  * Format long statements or expressions, including `ggplot`, across multiple lines\n",
        "3. Submit your work to Github\n",
        "  * your GitHub repository should be called `week_4_practical`\n",
        "  * This file should be called `week_4_solution.ipynb`\n",
        "    "
      ],
      "id": "355542d2"
    },
    {
      "cell_type": "code",
      "metadata": {
        "id": "1089e361"
      },
      "source": [
        "# Write you library imports here. E.g.:\n",
        "# library(ggplot2 )\n",
        "# ..."
      ],
      "id": "1089e361",
      "execution_count": null,
      "outputs": []
    },
    {
      "cell_type": "code",
      "metadata": {
        "colab": {
          "base_uri": "https://localhost:8080/"
        },
        "id": "0mKL2dSx3MEV",
        "outputId": "cab166d8-1b2a-436a-b20f-21f21be42b21"
      },
      "source": [
        "library(ggplot2)\n",
        "library(tidyverse)"
      ],
      "id": "0mKL2dSx3MEV",
      "execution_count": 1,
      "outputs": [
        {
          "output_type": "stream",
          "name": "stderr",
          "text": [
            "Warning message in system(\"timedatectl\", intern = TRUE):\n",
            "“running command 'timedatectl' had status 1”\n",
            "── \u001b[1mAttaching packages\u001b[22m ─────────────────────────────────────── tidyverse 1.3.1 ──\n",
            "\n",
            "\u001b[32m✔\u001b[39m \u001b[34mtibble \u001b[39m 3.1.3     \u001b[32m✔\u001b[39m \u001b[34mdplyr  \u001b[39m 1.0.7\n",
            "\u001b[32m✔\u001b[39m \u001b[34mtidyr  \u001b[39m 1.1.3     \u001b[32m✔\u001b[39m \u001b[34mstringr\u001b[39m 1.4.0\n",
            "\u001b[32m✔\u001b[39m \u001b[34mreadr  \u001b[39m 2.0.1     \u001b[32m✔\u001b[39m \u001b[34mforcats\u001b[39m 0.5.1\n",
            "\u001b[32m✔\u001b[39m \u001b[34mpurrr  \u001b[39m 0.3.4     \n",
            "\n",
            "── \u001b[1mConflicts\u001b[22m ────────────────────────────────────────── tidyverse_conflicts() ──\n",
            "\u001b[31m✖\u001b[39m \u001b[34mdplyr\u001b[39m::\u001b[32mfilter()\u001b[39m masks \u001b[34mstats\u001b[39m::filter()\n",
            "\u001b[31m✖\u001b[39m \u001b[34mdplyr\u001b[39m::\u001b[32mlag()\u001b[39m    masks \u001b[34mstats\u001b[39m::lag()\n",
            "\n"
          ]
        }
      ]
    },
    {
      "cell_type": "markdown",
      "metadata": {
        "id": "9d1f436c"
      },
      "source": [
        "### Q.1\n",
        "\n",
        "* Write a function that manually computes the standard deviation.\n",
        "  * Call your function `sd_x`\n",
        "\n",
        "Recall that the standard deviation is computed as\n",
        "\n",
        "$$\n",
        "\\sigma = \\sqrt{\\frac{\\sum{(x_i - \\mu)^2}}{N-1}}\n",
        "$$\n",
        "\n",
        "* $\\mu$ is simply the mean of the vector of inputs\n",
        "  * it can be computed using the `mean` function\n",
        "\n",
        "\n",
        "For example, given:\n",
        "\n",
        "```x = c(1,2,3)```\n",
        "\n",
        "Since $\\mu = 2$, then $\\sigma = \\sqrt{\\frac{(1-2)^2 + (2-2)^2 + (3-2)^2}{3}} = 1$.\n",
        "\n",
        "* Important: What do you do if this function is called with a single element?\n",
        "  * Recall that we cannot compute the std deviation of a single value\n",
        "\n",
        "* Use `assertthat` to make sure that `sd_x` and `sd` return the same values for 3 test vectors of your choice."
      ],
      "id": "9d1f436c"
    },
    {
      "cell_type": "code",
      "metadata": {
        "id": "41dba35a"
      },
      "source": [
        "# Write you answer here and use more cell if needed\n",
        "sd_x = function(x) { \n",
        "      if(length(x)> 1){ \n",
        "      sqrt((sum((x - mean(x))^2) )/(length(x) - 1))\n",
        "}     \n",
        "      else{ \n",
        "      stop(\"more than one value needed\")\n",
        "}\n",
        "}\n"
      ],
      "id": "41dba35a",
      "execution_count": 17,
      "outputs": []
    },
    {
      "cell_type": "code",
      "metadata": {
        "colab": {
          "base_uri": "https://localhost:8080/",
          "height": 51
        },
        "id": "SI679AEO-nBx",
        "outputId": "342376b7-459f-4143-fd17-a9563e5d175a"
      },
      "source": [
        "data = c(1, 2, 3)\n",
        "sd_x(data)\n",
        "sd(data)"
      ],
      "id": "SI679AEO-nBx",
      "execution_count": 19,
      "outputs": [
        {
          "output_type": "display_data",
          "data": {
            "text/plain": [
              "[1] 1"
            ],
            "text/latex": "1",
            "text/markdown": "1",
            "text/html": [
              "1"
            ]
          },
          "metadata": {}
        },
        {
          "output_type": "display_data",
          "data": {
            "text/plain": [
              "[1] 1"
            ],
            "text/latex": "1",
            "text/markdown": "1",
            "text/html": [
              "1"
            ]
          },
          "metadata": {}
        }
      ]
    },
    {
      "cell_type": "code",
      "metadata": {
        "colab": {
          "base_uri": "https://localhost:8080/",
          "height": 51
        },
        "id": "hfq0_JmT-mz3",
        "outputId": "0003d478-94b7-49af-cc78-d7fff8174199"
      },
      "source": [
        "data = c(7,10, 8, 5)\n",
        "sd_x(data)\n",
        "sd(data)"
      ],
      "id": "hfq0_JmT-mz3",
      "execution_count": 21,
      "outputs": [
        {
          "output_type": "display_data",
          "data": {
            "text/plain": [
              "[1] 2.081666"
            ],
            "text/latex": "2.08166599946613",
            "text/markdown": "2.08166599946613",
            "text/html": [
              "2.08166599946613"
            ]
          },
          "metadata": {}
        },
        {
          "output_type": "display_data",
          "data": {
            "text/plain": [
              "[1] 2.081666"
            ],
            "text/latex": "2.08166599946613",
            "text/markdown": "2.08166599946613",
            "text/html": [
              "2.08166599946613"
            ]
          },
          "metadata": {}
        }
      ]
    },
    {
      "cell_type": "code",
      "metadata": {
        "colab": {
          "base_uri": "https://localhost:8080/",
          "height": 147
        },
        "id": "QE8ZLf2z8hti",
        "outputId": "b5c9b47f-3fd2-4d1e-b42c-65df21a5ddaf"
      },
      "source": [
        "#This test is gonna fail\n",
        "test = c(1)\n",
        "sd_x(test)\n",
        "sd(test)"
      ],
      "id": "QE8ZLf2z8hti",
      "execution_count": 22,
      "outputs": [
        {
          "output_type": "error",
          "ename": "ERROR",
          "evalue": "ignored",
          "traceback": [
            "Error in sd_x(test): more than one value needed\nTraceback:\n",
            "1. sd_x(test)",
            "2. stop(\"more than one value needed\")   # at line 7 of file <text>"
          ]
        }
      ]
    },
    {
      "cell_type": "markdown",
      "metadata": {
        "id": "dec09c62"
      },
      "source": [
        "### Q2\n",
        "\n",
        "* In this question, we will build a simulated dataset for healthy and diseased corals.  You will be creating a `tibble` called `coral_health_tbl` that contains 2 columns:\n",
        "\n",
        "1. A column called `coral`. Generate this column by sampling 100 coral species from the following values\n",
        "```R\n",
        "coral_pop = c(\"Montipora capitata\",\n",
        "                 \"Porites compressa\",\n",
        "                 \"Porites lobata\")\n",
        "```\n",
        " * You can use the function `sample` to select 100 values from the vector `coral_pop`\n",
        " \n",
        "2. The second column is called `health_status`.\n",
        "    * it represents 100 randomly selected `TRUE` or `FALSE` values that represent whether the coral is healthy or diseased.\n",
        "    * Healthy corals (`health_status == FALSE`; not diseased) occur with a probability of 0.8 wheras diseased (`health_status == TRUE`) corals occur with a probability of 0.3.\n",
        "    * You can use sample again but modify the `prob` parameter to account for the differet probabilities\n"
      ],
      "id": "dec09c62"
    },
    {
      "cell_type": "code",
      "metadata": {
        "colab": {
          "base_uri": "https://localhost:8080/"
        },
        "id": "f211f27a",
        "outputId": "8ab28506-4ba6-4ae3-efdd-c373a800811a"
      },
      "source": [
        "# Write you answer here and use more cell if needed\n",
        "coral_pop = c(\"Montipora capitata\", \n",
        "               \"Porites compressa\", \n",
        "               \"Porites lobata\")\n",
        "coral = sample(coral_pop, 100, \n",
        "               replace = TRUE)\n",
        "print(coral)"
      ],
      "id": "f211f27a",
      "execution_count": 37,
      "outputs": [
        {
          "output_type": "stream",
          "name": "stdout",
          "text": [
            "  [1] \"Porites compressa\"  \"Porites compressa\"  \"Montipora capitata\"\n",
            "  [4] \"Montipora capitata\" \"Porites compressa\"  \"Porites lobata\"    \n",
            "  [7] \"Porites compressa\"  \"Porites lobata\"     \"Montipora capitata\"\n",
            " [10] \"Porites lobata\"     \"Montipora capitata\" \"Porites lobata\"    \n",
            " [13] \"Montipora capitata\" \"Montipora capitata\" \"Montipora capitata\"\n",
            " [16] \"Porites lobata\"     \"Porites compressa\"  \"Porites lobata\"    \n",
            " [19] \"Porites compressa\"  \"Porites lobata\"     \"Porites compressa\" \n",
            " [22] \"Montipora capitata\" \"Porites compressa\"  \"Montipora capitata\"\n",
            " [25] \"Porites lobata\"     \"Porites compressa\"  \"Porites compressa\" \n",
            " [28] \"Porites lobata\"     \"Porites lobata\"     \"Porites lobata\"    \n",
            " [31] \"Montipora capitata\" \"Montipora capitata\" \"Porites lobata\"    \n",
            " [34] \"Montipora capitata\" \"Porites compressa\"  \"Montipora capitata\"\n",
            " [37] \"Porites lobata\"     \"Porites lobata\"     \"Montipora capitata\"\n",
            " [40] \"Porites lobata\"     \"Porites lobata\"     \"Porites compressa\" \n",
            " [43] \"Porites lobata\"     \"Porites compressa\"  \"Porites compressa\" \n",
            " [46] \"Porites lobata\"     \"Porites lobata\"     \"Porites lobata\"    \n",
            " [49] \"Porites compressa\"  \"Porites compressa\"  \"Montipora capitata\"\n",
            " [52] \"Porites compressa\"  \"Montipora capitata\" \"Porites lobata\"    \n",
            " [55] \"Porites lobata\"     \"Porites compressa\"  \"Porites lobata\"    \n",
            " [58] \"Porites lobata\"     \"Porites lobata\"     \"Porites compressa\" \n",
            " [61] \"Porites lobata\"     \"Montipora capitata\" \"Porites compressa\" \n",
            " [64] \"Porites compressa\"  \"Porites compressa\"  \"Porites compressa\" \n",
            " [67] \"Porites compressa\"  \"Porites lobata\"     \"Porites compressa\" \n",
            " [70] \"Porites compressa\"  \"Porites compressa\"  \"Porites compressa\" \n",
            " [73] \"Montipora capitata\" \"Montipora capitata\" \"Porites lobata\"    \n",
            " [76] \"Porites compressa\"  \"Montipora capitata\" \"Porites lobata\"    \n",
            " [79] \"Porites compressa\"  \"Porites compressa\"  \"Porites compressa\" \n",
            " [82] \"Montipora capitata\" \"Porites compressa\"  \"Porites compressa\" \n",
            " [85] \"Montipora capitata\" \"Porites lobata\"     \"Montipora capitata\"\n",
            " [88] \"Porites lobata\"     \"Porites compressa\"  \"Porites compressa\" \n",
            " [91] \"Porites lobata\"     \"Porites lobata\"     \"Porites compressa\" \n",
            " [94] \"Montipora capitata\" \"Porites compressa\"  \"Porites lobata\"    \n",
            " [97] \"Porites lobata\"     \"Porites lobata\"     \"Montipora capitata\"\n",
            "[100] \"Porites lobata\"    \n"
          ]
        }
      ]
    },
    {
      "cell_type": "code",
      "metadata": {
        "colab": {
          "base_uri": "https://localhost:8080/"
        },
        "id": "3a8nP2Kf_2xC",
        "outputId": "e8bdc383-d24a-44f7-e6f1-05a9aa3504d1"
      },
      "source": [
        "healthstat = c(\"True\", \n",
        "               \"False\")\n",
        "health_status = sample(healthstat, 100, replace = TRUE, prob = c(0.8,0.2))\n",
        "print(health_status)"
      ],
      "id": "3a8nP2Kf_2xC",
      "execution_count": 35,
      "outputs": [
        {
          "output_type": "stream",
          "name": "stdout",
          "text": [
            "  [1] \"True\"  \"True\"  \"True\"  \"True\"  \"False\" \"True\"  \"True\"  \"True\"  \"True\" \n",
            " [10] \"True\"  \"False\" \"True\"  \"True\"  \"True\"  \"True\"  \"True\"  \"True\"  \"True\" \n",
            " [19] \"True\"  \"True\"  \"True\"  \"True\"  \"True\"  \"True\"  \"True\"  \"True\"  \"True\" \n",
            " [28] \"True\"  \"True\"  \"False\" \"True\"  \"True\"  \"True\"  \"False\" \"True\"  \"True\" \n",
            " [37] \"True\"  \"True\"  \"False\" \"True\"  \"True\"  \"True\"  \"False\" \"True\"  \"True\" \n",
            " [46] \"True\"  \"False\" \"False\" \"True\"  \"True\"  \"False\" \"True\"  \"True\"  \"True\" \n",
            " [55] \"True\"  \"True\"  \"True\"  \"True\"  \"True\"  \"False\" \"True\"  \"True\"  \"True\" \n",
            " [64] \"True\"  \"True\"  \"False\" \"False\" \"True\"  \"False\" \"True\"  \"True\"  \"True\" \n",
            " [73] \"True\"  \"False\" \"True\"  \"True\"  \"True\"  \"True\"  \"True\"  \"False\" \"True\" \n",
            " [82] \"True\"  \"True\"  \"True\"  \"False\" \"True\"  \"True\"  \"True\"  \"True\"  \"False\"\n",
            " [91] \"False\" \"False\" \"True\"  \"False\" \"True\"  \"False\" \"False\" \"True\"  \"False\"\n",
            "[100] \"True\" \n"
          ]
        }
      ]
    },
    {
      "cell_type": "code",
      "metadata": {
        "colab": {
          "base_uri": "https://localhost:8080/"
        },
        "id": "aJU5Qm9lBo9-",
        "outputId": "841c07aa-3f75-4002-b6c6-0b758dd57016"
      },
      "source": [
        "data_frame = data.frame(coral, health_status)\n",
        "coral_health_tbl = tibble(coral, health_status)\n",
        "print(coral_health_tbl)\n"
      ],
      "id": "aJU5Qm9lBo9-",
      "execution_count": 41,
      "outputs": [
        {
          "output_type": "stream",
          "name": "stdout",
          "text": [
            "\u001b[90m# A tibble: 100 × 2\u001b[39m\n",
            "   coral              health_status\n",
            "   \u001b[3m\u001b[90m<chr>\u001b[39m\u001b[23m              \u001b[3m\u001b[90m<chr>\u001b[39m\u001b[23m        \n",
            "\u001b[90m 1\u001b[39m Porites compressa  True         \n",
            "\u001b[90m 2\u001b[39m Porites compressa  True         \n",
            "\u001b[90m 3\u001b[39m Montipora capitata True         \n",
            "\u001b[90m 4\u001b[39m Montipora capitata True         \n",
            "\u001b[90m 5\u001b[39m Porites compressa  False        \n",
            "\u001b[90m 6\u001b[39m Porites lobata     True         \n",
            "\u001b[90m 7\u001b[39m Porites compressa  True         \n",
            "\u001b[90m 8\u001b[39m Porites lobata     True         \n",
            "\u001b[90m 9\u001b[39m Montipora capitata True         \n",
            "\u001b[90m10\u001b[39m Porites lobata     True         \n",
            "\u001b[90m# … with 90 more rows\u001b[39m\n"
          ]
        }
      ]
    },
    {
      "cell_type": "markdown",
      "metadata": {
        "id": "dacc2558"
      },
      "source": [
        "### Q3\n",
        "\n",
        "* Create a new column in `coral_health_tbl` called `coral_cover`\n",
        "* This column represents coral cover values for the corals observed in your tibble\n",
        "\n",
        "* For the healthy coral (`health_status = TRUE`), sample the cover values from a normal with mean 9 and std of 2\n",
        "* For the diseased corals (`health_status = TRUE`), sample the cover values from a normal with mean 1 and std of 3\n",
        "* Note that this is a perfect scenario for using `mapply`"
      ],
      "id": "dacc2558"
    },
    {
      "cell_type": "code",
      "metadata": {
        "colab": {
          "base_uri": "https://localhost:8080/",
          "height": 51
        },
        "id": "f6b58424",
        "outputId": "f1a0be61-7760-438d-f3a3-8952f4b7b357"
      },
      "source": [
        "# Write you answer here and use more cell if needed (tapply, create a function with if else statement)\n",
        "# test if parameter is true or false, apply multiple times based on columns\n",
        "# return_cover =  function(x)\n",
        "# mapply(return_cover, health.status)\n",
        "return_cover = function(x) { \n",
        "  if(x == \"True\"){ \n",
        "    rnorm(1, 9, 2) \n",
        "  }else{ \n",
        "    rnorm(1, 1, 3)\n",
        "  }\n",
        "}\n",
        "\n",
        "return_cover(\"True\")\n",
        "return_cover(\"False\" )\n"
      ],
      "id": "f6b58424",
      "execution_count": 54,
      "outputs": [
        {
          "output_type": "display_data",
          "data": {
            "text/plain": [
              "[1] 7.787832"
            ],
            "text/latex": "7.78783178257077",
            "text/markdown": "7.78783178257077",
            "text/html": [
              "7.78783178257077"
            ]
          },
          "metadata": {}
        },
        {
          "output_type": "display_data",
          "data": {
            "text/plain": [
              "[1] 2.342549"
            ],
            "text/latex": "2.34254933545707",
            "text/markdown": "2.34254933545707",
            "text/html": [
              "2.34254933545707"
            ]
          },
          "metadata": {}
        }
      ]
    },
    {
      "cell_type": "code",
      "metadata": {
        "colab": {
          "base_uri": "https://localhost:8080/",
          "height": 34
        },
        "id": "fA3rY8CqHggc",
        "outputId": "41b02913-6977-46ed-8734-23fb9ee465a8"
      },
      "source": [
        "rnorm(1, 9, 2)"
      ],
      "id": "fA3rY8CqHggc",
      "execution_count": 43,
      "outputs": [
        {
          "output_type": "display_data",
          "data": {
            "text/plain": [
              "[1] 7.071213"
            ],
            "text/latex": "7.07121268454608",
            "text/markdown": "7.07121268454608",
            "text/html": [
              "7.07121268454608"
            ]
          },
          "metadata": {}
        }
      ]
    },
    {
      "cell_type": "code",
      "metadata": {
        "colab": {
          "base_uri": "https://localhost:8080/",
          "height": 119
        },
        "id": "gj-bbqzmJrUC",
        "outputId": "45107e2e-a437-45aa-acb3-1fcda7515947"
      },
      "source": [
        "mapply(\n",
        "  return_cover, c(\"True\", \"True\", \"False\", \"True\")\n",
        ")\n",
        "\n",
        "return_cover(\"True\")\n",
        "return_cover(\"True\")\n",
        "return_cover(\"False\")\n",
        "return_cover(\"True\")"
      ],
      "id": "gj-bbqzmJrUC",
      "execution_count": 55,
      "outputs": [
        {
          "output_type": "display_data",
          "data": {
            "text/plain": [
              "     True      True     False      True \n",
              " 8.013114  9.547029 -4.687937  8.159228 "
            ],
            "text/latex": "\\begin{description*}\n\\item[True] 8.01311397781332\n\\item[True] 9.54702902842205\n\\item[False] -4.68793735669284\n\\item[True] 8.15922844249879\n\\end{description*}\n",
            "text/markdown": "True\n:   8.01311397781332True\n:   9.54702902842205False\n:   -4.68793735669284True\n:   8.15922844249879\n\n",
            "text/html": [
              "<style>\n",
              ".dl-inline {width: auto; margin:0; padding: 0}\n",
              ".dl-inline>dt, .dl-inline>dd {float: none; width: auto; display: inline-block}\n",
              ".dl-inline>dt::after {content: \":\\0020\"; padding-right: .5ex}\n",
              ".dl-inline>dt:not(:first-of-type) {padding-left: .5ex}\n",
              "</style><dl class=dl-inline><dt>True</dt><dd>8.01311397781332</dd><dt>True</dt><dd>9.54702902842205</dd><dt>False</dt><dd>-4.68793735669284</dd><dt>True</dt><dd>8.15922844249879</dd></dl>\n"
            ]
          },
          "metadata": {}
        },
        {
          "output_type": "display_data",
          "data": {
            "text/plain": [
              "[1] 9.043654"
            ],
            "text/latex": "9.04365435158791",
            "text/markdown": "9.04365435158791",
            "text/html": [
              "9.04365435158791"
            ]
          },
          "metadata": {}
        },
        {
          "output_type": "display_data",
          "data": {
            "text/plain": [
              "[1] 9.637912"
            ],
            "text/latex": "9.63791172926878",
            "text/markdown": "9.63791172926878",
            "text/html": [
              "9.63791172926878"
            ]
          },
          "metadata": {}
        },
        {
          "output_type": "display_data",
          "data": {
            "text/plain": [
              "[1] 1.823196"
            ],
            "text/latex": "1.82319561094048",
            "text/markdown": "1.82319561094048",
            "text/html": [
              "1.82319561094048"
            ]
          },
          "metadata": {}
        },
        {
          "output_type": "display_data",
          "data": {
            "text/plain": [
              "[1] 10.79194"
            ],
            "text/latex": "10.7919392873126",
            "text/markdown": "10.7919392873126",
            "text/html": [
              "10.7919392873126"
            ]
          },
          "metadata": {}
        }
      ]
    },
    {
      "cell_type": "code",
      "metadata": {
        "colab": {
          "base_uri": "https://localhost:8080/"
        },
        "id": "b0UO9RH2Kz1e",
        "outputId": "e5b8e18a-4696-4841-f5d7-32ac04558d0c"
      },
      "source": [
        "coral_cover = mapply(return_cover, health_status)\n",
        "print(coral_cover)"
      ],
      "id": "b0UO9RH2Kz1e",
      "execution_count": 56,
      "outputs": [
        {
          "output_type": "stream",
          "name": "stdout",
          "text": [
            "      True       True       True       True      False       True       True \n",
            " 8.4055023 11.0715482 13.4431244  9.6960659 -3.6274682  6.5180748  9.1274624 \n",
            "      True       True       True      False       True       True       True \n",
            " 9.6780907  7.2814361  8.5591316  7.2484800  6.5854174  7.9025260 10.2394308 \n",
            "      True       True       True       True       True       True       True \n",
            "11.2528402  9.2071421  9.8634953  9.5614912 10.5331236  9.0157706  9.5520552 \n",
            "      True       True       True       True       True       True       True \n",
            "12.5871108  9.4911453 14.3046129  7.2032327  6.0772652  9.1784295 10.6063956 \n",
            "      True      False       True       True       True      False       True \n",
            " 7.4654713  3.7263201 10.6359325  8.9136864 11.3850655  5.5128062  5.6890077 \n",
            "      True       True       True      False       True       True       True \n",
            " 9.6812873  6.8411638  7.8830222  3.1734316 10.8923899 11.7849240 10.5123007 \n",
            "     False       True       True       True      False      False       True \n",
            " 1.2505201  7.4396303 10.5082254  9.7247370  4.7131688  2.3088002  8.1288134 \n",
            "      True      False       True       True       True       True       True \n",
            " 8.6321495  4.6255947  8.9027190 12.5389346 10.5233002  8.1785413 11.3019409 \n",
            "      True       True       True      False       True       True       True \n",
            " 3.8338700  9.5002560  9.3733564  4.2416444  8.1055924  8.9014170  5.4040060 \n",
            "      True       True      False      False       True      False       True \n",
            "10.7796143  9.2906532  0.8318916 -2.3488613  8.0182163  5.7770383  8.1221575 \n",
            "      True       True       True      False       True       True       True \n",
            " 9.4696517  7.6882343 10.4275968  1.8435036 11.4514447 10.5015646  3.9780032 \n",
            "      True       True      False       True       True       True       True \n",
            " 9.9506326 10.4142880  4.7077153  9.8012955  6.9371213  6.5020196  7.8017083 \n",
            "     False       True       True       True       True      False      False \n",
            "-6.2908005  6.9045334  7.8165982  8.8346315  3.6709222 -0.7604333  0.6051326 \n",
            "     False       True      False       True      False      False       True \n",
            "-3.2184379  9.1730107 -1.1226576  9.4278608 -2.8391103  5.3910186  2.9117121 \n",
            "     False       True \n",
            "-2.5114707  8.4082963 \n"
          ]
        }
      ]
    },
    {
      "cell_type": "code",
      "metadata": {
        "colab": {
          "base_uri": "https://localhost:8080/"
        },
        "id": "9GhUfpHHESH8",
        "outputId": "9535e3e6-4071-4a20-e33f-b5eb63f4ef22"
      },
      "source": [
        "coral_health_tbl = tibble(coral, health_status, coral_cover)\n",
        "print(coral_health_tbl)"
      ],
      "id": "9GhUfpHHESH8",
      "execution_count": 57,
      "outputs": [
        {
          "output_type": "stream",
          "name": "stdout",
          "text": [
            "\u001b[90m# A tibble: 100 × 3\u001b[39m\n",
            "   coral              health_status coral_cover\n",
            "   \u001b[3m\u001b[90m<chr>\u001b[39m\u001b[23m              \u001b[3m\u001b[90m<chr>\u001b[39m\u001b[23m               \u001b[3m\u001b[90m<dbl>\u001b[39m\u001b[23m\n",
            "\u001b[90m 1\u001b[39m Porites compressa  True                 8.41\n",
            "\u001b[90m 2\u001b[39m Porites compressa  True                11.1 \n",
            "\u001b[90m 3\u001b[39m Montipora capitata True                13.4 \n",
            "\u001b[90m 4\u001b[39m Montipora capitata True                 9.70\n",
            "\u001b[90m 5\u001b[39m Porites compressa  False               -\u001b[31m3\u001b[39m\u001b[31m.\u001b[39m\u001b[31m63\u001b[39m\n",
            "\u001b[90m 6\u001b[39m Porites lobata     True                 6.52\n",
            "\u001b[90m 7\u001b[39m Porites compressa  True                 9.13\n",
            "\u001b[90m 8\u001b[39m Porites lobata     True                 9.68\n",
            "\u001b[90m 9\u001b[39m Montipora capitata True                 7.28\n",
            "\u001b[90m10\u001b[39m Porites lobata     True                 8.56\n",
            "\u001b[90m# … with 90 more rows\u001b[39m\n"
          ]
        }
      ]
    },
    {
      "cell_type": "markdown",
      "metadata": {
        "id": "fa18322d"
      },
      "source": [
        "### Q4\n",
        "\n",
        "* Add another column called `binary_health_status`.\n",
        " * set the column to 0 if `health_status == FALSE`\n",
        " * set the column to 1 if `health_status == TRUE`\n",
        "\n",
        "* A trick here is to remember that:\n",
        "  1. Corecing (converting) a logical can be done with `as.integer()`\n",
        "  2. `as.integer(TRUE)` returns 1\n",
        "  3. `as.integer(FALSE)` returns 0\n",
        "\n",
        "\n"
      ],
      "id": "fa18322d"
    },
    {
      "cell_type": "code",
      "metadata": {
        "id": "013461ec"
      },
      "source": [
        "# Write you answer here and use more cell if needed\n",
        "\n"
      ],
      "id": "013461ec",
      "execution_count": null,
      "outputs": []
    },
    {
      "cell_type": "markdown",
      "metadata": {
        "id": "a6e28e80"
      },
      "source": [
        "### Q5\n",
        "\n",
        "* Plot the distribution of `coral_cover` for healthy versus diseased corals\n",
        "* Note that I am using a histogram `geom`\n",
        "  * Histograms need only a `x` axis because the `y` is computed (count)\n",
        "    * However, instead of a raw count, we want a normalized count. You can normalize the count by setting `y = stat(count / sum(count))`  \n",
        "  * I am coloring the bin outlines in black and filling in grey for disease and white for healthy\n",
        "  * I am using `binwidth=1'.\n",
        "* use the `labs` function to add a title and to change the labels for the `x` and `y` axes\n",
        "* The plot should look like the following\n",
        "![](https://www.dropbox.com/s/wdbdj05rd50vb0k/healthy-diseased.png?dl=1)"
      ],
      "id": "a6e28e80"
    },
    {
      "cell_type": "code",
      "metadata": {
        "id": "23a9adff"
      },
      "source": [
        "# Write you answer here and use more cell if needed\n",
        "\n"
      ],
      "id": "23a9adff",
      "execution_count": null,
      "outputs": []
    },
    {
      "cell_type": "markdown",
      "metadata": {
        "id": "5a9538df"
      },
      "source": [
        "### Q6.\n",
        "\n",
        "* Repeat the plot above by highlighting the distribution per species\n",
        "* I am using `geom_density`\n",
        "  * set the `adjust` param of `geom_density` to `2`\n",
        "* Change the `xlim` scale so that we can see the edges of the curves\n",
        "  * I.e., curves should not be cutoff\n"
      ],
      "id": "5a9538df"
    },
    {
      "cell_type": "code",
      "metadata": {
        "id": "4839415e"
      },
      "source": [
        "# Write you answer here and use more cell if needed\n",
        "\n"
      ],
      "id": "4839415e",
      "execution_count": null,
      "outputs": []
    },
    {
      "cell_type": "markdown",
      "metadata": {
        "id": "784fa644"
      },
      "source": [
        "### Q6 -- Challenge\n",
        "\n",
        "\n",
        "Recall problem `8` in the airquality dataset.\n",
        "  * Remember that you can import that dataset using `data(airquality)`\n",
        "1. Convert the `airquality` dataframe to a tibble called `airq_tbl`\n",
        "2. Replace the missing values for Solar.R using that month's average.\n",
        "    * Example:\n",
        "        * The missing value for line 6 in `airq_tbl`should be replaced with the average for month 5.\n",
        "        * The missing value for line 97 in `airq_tbl` should be replaced with the average for month 8.\n",
        "\n",
        "* Strategy:\n",
        "  1. Compute the average values for months 5, 6, 7, 8, and 9 in a names vector called `monthly_avg_SolarR`\n",
        "      * monthly_avg_SolarR[5] should return the average for May.\n",
        "      * monthly_avg_SolarR[6] should return the average for June.\n",
        "      * etc.\n",
        "      * This is an ideal use case for `tapply` with `na.rm=TRUE` (ask me!)\n",
        "  2. for each line of airq_tbl check value of Solar.R and do:\n",
        "    * if value is not `na`, return the value\n",
        "    * if value if `na`; return avg associated with `Month`\n",
        "    * This is an ideal case for `apply`\n",
        "      * You need to write your own function (call it `fix_missing_solar_R`)\n",
        "      * Recall that the argument to that function is a complete row as a vector!\n",
        "    * test your function with the following line to make sure it's working\n",
        "    ```fix_missing_solar_R(airq_tbl[5,])```"
      ],
      "id": "784fa644"
    },
    {
      "cell_type": "code",
      "metadata": {
        "id": "37af68e4"
      },
      "source": [
        "# Write you answer here and use more cell if needed \n",
        "# you most likely will need more cells to structure such a multi-step answer\n",
        "\n"
      ],
      "id": "37af68e4",
      "execution_count": null,
      "outputs": []
    }
  ]
}